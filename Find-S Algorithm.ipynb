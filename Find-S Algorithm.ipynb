{
 "cells": [
  {
   "cell_type": "code",
   "execution_count": 13,
   "metadata": {},
   "outputs": [
    {
     "name": "stdout",
     "output_type": "stream",
     "text": [
      "--------------Implement and demonstrate Find_S algorithm--------------\n",
      "Name: Farhana Khatoon Abdul Rashid\n",
      "Roll No.21\n",
      "College Name: Vivek College of Commerce\n",
      "M.Sc(I.T.)[Sem 3]\n",
      "Date and Time: 06/10/2022 11:10:41\n",
      "     Sky AirTemp Humidity    Wind Water Forecast EnjoySport\n",
      "0  Sunny    Warm   Normal  Strong  Warm     Same        Yes\n",
      "1  Sunny    Warm     High  Strong  Warm     Same        Yes\n",
      "2  Rainy    Cold     High  Strong  Warm   Change         No\n",
      "3  Sunny    Warm     High  Strong  Cool   Change        Yes\n",
      "\n",
      "The attributes are:  [['Sunny' 'Warm' 'Normal' 'Strong' 'Warm' 'Same']\n",
      " ['Sunny' 'Warm' 'High' 'Strong' 'Warm' 'Same']\n",
      " ['Rainy' 'Cold' 'High' 'Strong' 'Warm' 'Change']\n",
      " ['Sunny' 'Warm' 'High' 'Strong' 'Cool' 'Change']]\n",
      "\n",
      "The target is:  ['Yes' 'Yes' 'No' 'Yes']\n",
      "\n",
      "\n",
      "The final hypothesis is: ['Sunny' 'Warm' '?' 'Strong' '?' '?']\n"
     ]
    }
   ],
   "source": [
    "print(\"--------------Implement and demonstrate Find_S algorithm--------------\")\n",
    "print(\"Name: Farhana Khatoon Abdul Rashid\")\n",
    "print(\"Roll No.21\")\n",
    "print(\"College Name: Vivek College of Commerce\")\n",
    "print(\"M.Sc(I.T.)[Sem 3]\")\n",
    "from datetime import datetime\n",
    "now=datetime.now()\n",
    "#dd/mm/yy H:M:S\n",
    "dt_string=now.strftime(\"%d/%m/%Y %H:%M:%S\")\n",
    "print(\"Date and Time:\", dt_string)\n",
    "import pandas as pd\n",
    "import numpy as np\n",
    "#To read the data in the csv file\n",
    "data = pd.read_csv(\"ENJOYSPORT.csv\")\n",
    "print(data)\n",
    "print('')\n",
    "#Making an array of all the attributes\n",
    "attribute = np.array(data)[:,:-1]\n",
    "print(\"The attributes are: \",attribute)\n",
    "print('')\n",
    "#Segregating the target that has positive and negative examples\n",
    "target = np.array(data)[:,-1]\n",
    "print(\"The target is: \",target)\n",
    "print('')\n",
    "#Training function to implement find-s algorithm\n",
    "def train(c,t):\n",
    "    for i, val in enumerate(t):\n",
    "        if val == \"Yes\":\n",
    "            specific_hypothesis = c[i].copy()\n",
    "            break\n",
    "    for i, val in enumerate(c):\n",
    "        if t[i] == \"Yes\":\n",
    "            for x in range(len(specific_hypothesis)):\n",
    "                if val[x] != specific_hypothesis[x]:\n",
    "                    specific_hypothesis[x] = '?'\n",
    "                else:\n",
    "                    pass\n",
    "    return specific_hypothesis\n",
    "#Obtaining the final hypothesis\n",
    "print('')\n",
    "print(\"The final hypothesis is:\",train(attribute,target))"
   ]
  }
 ],
 "metadata": {
  "kernelspec": {
   "display_name": "Python 3 (ipykernel)",
   "language": "python",
   "name": "python3"
  },
  "language_info": {
   "codemirror_mode": {
    "name": "ipython",
    "version": 3
   },
   "file_extension": ".py",
   "mimetype": "text/x-python",
   "name": "python",
   "nbconvert_exporter": "python",
   "pygments_lexer": "ipython3",
   "version": "3.10.7"
  }
 },
 "nbformat": 4,
 "nbformat_minor": 2
}
