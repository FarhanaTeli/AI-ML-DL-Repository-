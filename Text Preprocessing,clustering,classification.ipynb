{
 "cells": [
  {
   "cell_type": "code",
   "execution_count": 10,
   "metadata": {},
   "outputs": [
    {
     "name": "stdout",
     "output_type": "stream",
     "text": [
      "Collecting umap-learn\n",
      "Collecting scikit-learn>=0.22 (from umap-learn)\n",
      "  Using cached https://files.pythonhosted.org/packages/9d/20/0ffe8665a44bce7616bd33d4368a198fecad3b226bcafa38c63ef0f6286f/scikit_learn-1.0.2-cp37-cp37m-win_amd64.whl\n",
      "Requirement already satisfied: scipy>=1.0 in c:\\users\\mscit5\\anaconda3\\lib\\site-packages (from umap-learn) (1.3.1)\n",
      "Requirement already satisfied: numpy>=1.17 in c:\\users\\mscit5\\anaconda3\\lib\\site-packages (from umap-learn) (1.21.6)\n",
      "Collecting numba>=0.49 (from umap-learn)\n",
      "  Using cached https://files.pythonhosted.org/packages/95/80/c2832eea5ccc0e38f64226b8d719c0a4f22f49662c779f25240237a850a7/numba-0.56.2-cp37-cp37m-win_amd64.whl\n",
      "Requirement already satisfied: tqdm in c:\\users\\mscit5\\anaconda3\\lib\\site-packages (from umap-learn) (4.36.1)\n",
      "Collecting pynndescent>=0.5 (from umap-learn)\n",
      "Requirement already satisfied: joblib>=0.11 in c:\\users\\mscit5\\anaconda3\\lib\\site-packages (from scikit-learn>=0.22->umap-learn) (0.13.2)\n",
      "Collecting threadpoolctl>=2.0.0 (from scikit-learn>=0.22->umap-learn)\n",
      "  Using cached https://files.pythonhosted.org/packages/61/cf/6e354304bcb9c6413c4e02a747b600061c21d38ba51e7e544ac7bc66aecc/threadpoolctl-3.1.0-py3-none-any.whl\n",
      "Requirement already satisfied: importlib-metadata; python_version < \"3.9\" in c:\\users\\mscit5\\anaconda3\\lib\\site-packages (from numba>=0.49->umap-learn) (0.23)\n",
      "Collecting llvmlite<0.40,>=0.39.0dev0 (from numba>=0.49->umap-learn)\n",
      "  Using cached https://files.pythonhosted.org/packages/be/05/af5fd325c52b73255a51691300f00b06177dfe1088b90ea20dd49c6e0c23/llvmlite-0.39.1-cp37-cp37m-win_amd64.whl\n",
      "Requirement already satisfied: setuptools<60 in c:\\users\\mscit5\\anaconda3\\lib\\site-packages (from numba>=0.49->umap-learn) (41.4.0)\n",
      "Requirement already satisfied: zipp>=0.5 in c:\\users\\mscit5\\anaconda3\\lib\\site-packages (from importlib-metadata; python_version < \"3.9\"->numba>=0.49->umap-learn) (0.6.0)\n",
      "Requirement already satisfied: more-itertools in c:\\users\\mscit5\\anaconda3\\lib\\site-packages (from zipp>=0.5->importlib-metadata; python_version < \"3.9\"->numba>=0.49->umap-learn) (7.2.0)\n",
      "Installing collected packages: threadpoolctl, scikit-learn, llvmlite, numba, pynndescent, umap-learn\n",
      "  Found existing installation: scikit-learn 0.21.3\n",
      "    Uninstalling scikit-learn-0.21.3:\n",
      "      Successfully uninstalled scikit-learn-0.21.3\n",
      "Note: you may need to restart the kernel to use updated packages.\n"
     ]
    },
    {
     "name": "stderr",
     "output_type": "stream",
     "text": [
      "ERROR: Could not install packages due to an EnvironmentError: [WinError 5] Access is denied: 'c:\\\\users\\\\mscit5\\\\anaconda3\\\\lib\\\\site-packages\\\\~klearn\\\\feature_extraction\\\\_hashing.cp37-win_amd64.pyd'\n",
      "Consider using the `--user` option or check the permissions.\n",
      "\n"
     ]
    }
   ],
   "source": [
    "pip install umap-learn"
   ]
  },
  {
   "cell_type": "code",
   "execution_count": 48,
   "metadata": {},
   "outputs": [
    {
     "name": "stdout",
     "output_type": "stream",
     "text": [
      "Collecting umap\n",
      "  Downloading https://files.pythonhosted.org/packages/4b/46/08ab68936625400fe690684428d4db4764f49b406782cc133df1d0299d06/umap-0.1.1.tar.gz\n",
      "Building wheels for collected packages: umap\n",
      "  Building wheel for umap (setup.py): started\n",
      "  Building wheel for umap (setup.py): finished with status 'done'\n",
      "  Created wheel for umap: filename=umap-0.1.1-cp37-none-any.whl size=3570 sha256=e1f6eddbb61fc1825ce68844a130591ca58efaba9c57ed991c74fc33f4d66f8b\n",
      "  Stored in directory: C:\\Users\\Mscit5\\AppData\\Local\\pip\\Cache\\wheels\\7b\\29\\33\\b4d917dc95f69c0a060e2ab012d95e15db9ed4cc0b94ccac26\n",
      "Successfully built umap\n",
      "Installing collected packages: umap\n",
      "Successfully installed umap-0.1.1\n",
      "Note: you may need to restart the kernel to use updated packages.\n"
     ]
    }
   ],
   "source": [
    "pip install umap"
   ]
  },
  {
   "cell_type": "code",
   "execution_count": 1,
   "metadata": {},
   "outputs": [
    {
     "name": "stderr",
     "output_type": "stream",
     "text": [
      "WARNING: Skipping umap as it is not installed.\n"
     ]
    }
   ],
   "source": [
    "!pip uninstall umap"
   ]
  },
  {
   "cell_type": "code",
   "execution_count": 4,
   "metadata": {},
   "outputs": [
    {
     "name": "stderr",
     "output_type": "stream",
     "text": [
      "ERROR: Invalid requirement: '-'\n",
      "WARNING: You are using pip version 22.0.4; however, version 22.2.2 is available.\n",
      "You should consider upgrading via the 'C:\\Users\\Mscit5\\AppData\\Local\\Programs\\Python\\Python310\\python.exe -m pip install --upgrade pip' command.\n"
     ]
    }
   ],
   "source": [
    "!pip install umap - learn -i https: //mirrors.ustc.edu.cn/pypi/web/simple"
   ]
  },
  {
   "cell_type": "code",
   "execution_count": 7,
   "metadata": {},
   "outputs": [
    {
     "name": "stdout",
     "output_type": "stream",
     "text": [
      "Collecting umap_learn\n",
      "Requirement already satisfied: scipy>=1.0 in c:\\users\\mscit5\\anaconda3\\lib\\site-packages (from umap_learn) (1.3.1)\n",
      "Collecting numba>=0.49 (from umap_learn)\n",
      "  Using cached https://files.pythonhosted.org/packages/95/80/c2832eea5ccc0e38f64226b8d719c0a4f22f49662c779f25240237a850a7/numba-0.56.2-cp37-cp37m-win_amd64.whl\n",
      "Requirement already satisfied: numpy>=1.17 in c:\\users\\mscit5\\anaconda3\\lib\\site-packages (from umap_learn) (1.21.6)\n",
      "Requirement already satisfied: tqdm in c:\\users\\mscit5\\anaconda3\\lib\\site-packages (from umap_learn) (4.36.1)\n",
      "Collecting scikit-learn>=0.22 (from umap_learn)\n",
      "  Using cached https://files.pythonhosted.org/packages/9d/20/0ffe8665a44bce7616bd33d4368a198fecad3b226bcafa38c63ef0f6286f/scikit_learn-1.0.2-cp37-cp37m-win_amd64.whl\n",
      "Collecting pynndescent>=0.5 (from umap_learn)\n",
      "Requirement already satisfied: importlib-metadata; python_version < \"3.9\" in c:\\users\\mscit5\\anaconda3\\lib\\site-packages (from numba>=0.49->umap_learn) (0.23)\n",
      "Collecting llvmlite<0.40,>=0.39.0dev0 (from numba>=0.49->umap_learn)\n",
      "  Using cached https://files.pythonhosted.org/packages/be/05/af5fd325c52b73255a51691300f00b06177dfe1088b90ea20dd49c6e0c23/llvmlite-0.39.1-cp37-cp37m-win_amd64.whl\n",
      "Requirement already satisfied: setuptools<60 in c:\\users\\mscit5\\anaconda3\\lib\\site-packages (from numba>=0.49->umap_learn) (41.4.0)\n",
      "Collecting threadpoolctl>=2.0.0 (from scikit-learn>=0.22->umap_learn)\n",
      "  Using cached https://files.pythonhosted.org/packages/61/cf/6e354304bcb9c6413c4e02a747b600061c21d38ba51e7e544ac7bc66aecc/threadpoolctl-3.1.0-py3-none-any.whl\n",
      "Requirement already satisfied: joblib>=0.11 in c:\\users\\mscit5\\anaconda3\\lib\\site-packages (from scikit-learn>=0.22->umap_learn) (0.13.2)\n",
      "Requirement already satisfied: zipp>=0.5 in c:\\users\\mscit5\\anaconda3\\lib\\site-packages (from importlib-metadata; python_version < \"3.9\"->numba>=0.49->umap_learn) (0.6.0)\n",
      "Requirement already satisfied: more-itertools in c:\\users\\mscit5\\anaconda3\\lib\\site-packages (from zipp>=0.5->importlib-metadata; python_version < \"3.9\"->numba>=0.49->umap_learn) (7.2.0)\n",
      "Installing collected packages: llvmlite, numba, threadpoolctl, scikit-learn, pynndescent, umap-learn\n",
      "  Found existing installation: llvmlite 0.29.0\n",
      "Note: you may need to restart the kernel to use updated packages.\n"
     ]
    },
    {
     "name": "stderr",
     "output_type": "stream",
     "text": [
      "ERROR: Cannot uninstall 'llvmlite'. It is a distutils installed project and thus we cannot accurately determine which files belong to it which would lead to only a partial uninstall.\n"
     ]
    }
   ],
   "source": [
    "pip install umap_learn"
   ]
  },
  {
   "cell_type": "code",
   "execution_count": null,
   "metadata": {},
   "outputs": [],
   "source": []
  },
  {
   "cell_type": "code",
   "execution_count": null,
   "metadata": {},
   "outputs": [],
   "source": []
  },
  {
   "cell_type": "code",
   "execution_count": null,
   "metadata": {},
   "outputs": [],
   "source": []
  },
  {
   "cell_type": "code",
   "execution_count": 46,
   "metadata": {},
   "outputs": [],
   "source": [
    "movie_data = load_files(r\"C:\\Users\\Mscit5\\Downloads\\ML practical\\txt_sentoken\")  # Folder Path\n",
    "X, y = movie_data.data, movie_data.target # X=feature and y=target"
   ]
  },
  {
   "cell_type": "code",
   "execution_count": 7,
   "metadata": {},
   "outputs": [
    {
     "name": "stderr",
     "output_type": "stream",
     "text": [
      "[nltk_data] Downloading package wordnet to\n",
      "[nltk_data]     C:\\Users\\Mscit5\\AppData\\Roaming\\nltk_data...\n"
     ]
    }
   ],
   "source": [
    "import nltk\n",
    "nltk.download('wordnet')   # wordnet use to find the meanings of words, synonyms, antonyms, and more\n",
    "print(\"==================Text Preprocessing==================\")\n",
    "documents = []\n",
    "from nltk.stem import WordNetLemmatizer\n",
    "stemmer = WordNetLemmatizer()\n",
    "\n",
    "for sen in range(0, len(X)):\n",
    "    # Remove all the special characters\n",
    "    document = re.sub(r'\\W', ' ', str(X[sen]))\n",
    "    \n",
    "    # remove all single characters\n",
    "    document = re.sub(r'\\s+[a-zA-Z]\\s+', ' ', document)\n",
    "    \n",
    "    # Remove single characters from the start\n",
    "    document = re.sub(r'\\^[a-zA-Z]\\s+', ' ', document) \n",
    "    \n",
    "    # Substituting multiple spaces with single space\n",
    "    document = re.sub(r'\\s+', ' ', document, flags=re.I)\n",
    "    \n",
    "    # Removing prefixed 'b'\n",
    "    document = re.sub(r'^b\\s+', '', document)\n",
    "    \n",
    "    # Converting to Lowercase\n",
    "    document = document.lower()\n",
    "    \n",
    "    # Lemmatization used to generate root form of derived (inflected) words\n",
    "    document = document.split()\n",
    "\n",
    "    document = [stemmer.lemmatize(word) for word in document]\n",
    "    document = ' '.join(document)\n",
    "    \n",
    "    documents.append(document)\n",
    "print(\"After preprocessing document)"
   ]
  },
  {
   "cell_type": "code",
   "execution_count": 8,
   "metadata": {},
   "outputs": [],
   "source": [
    "# Bag of Words\n",
    "from sklearn.feature_extraction.text import CountVectorizer\n",
    "vectorizer = CountVectorizer(max_features=1500, min_df=5, max_df=0.7, stop_words=stopwords.words('english'))\n",
    "X = vectorizer.fit_transform(documents).toarray()"
   ]
  },
  {
   "cell_type": "code",
   "execution_count": 10,
   "metadata": {},
   "outputs": [],
   "source": [
    "# Using the bag of words model into TFIDF values\n",
    "from sklearn.feature_extraction.text import TfidfTransformer\n",
    "tfidfconverter = TfidfTransformer()\n",
    "X = tfidfconverter.fit_transform(X).toarray()"
   ]
  },
  {
   "cell_type": "code",
   "execution_count": 14,
   "metadata": {},
   "outputs": [
    {
     "data": {
      "text/plain": [
       "RandomForestClassifier(bootstrap=True, class_weight=None, criterion='gini',\n",
       "                       max_depth=None, max_features='auto', max_leaf_nodes=None,\n",
       "                       min_impurity_decrease=0.0, min_impurity_split=None,\n",
       "                       min_samples_leaf=1, min_samples_split=2,\n",
       "                       min_weight_fraction_leaf=0.0, n_estimators=1000,\n",
       "                       n_jobs=None, oob_score=False, random_state=0, verbose=0,\n",
       "                       warm_start=False)"
      ]
     },
     "execution_count": 14,
     "metadata": {},
     "output_type": "execute_result"
    }
   ],
   "source": [
    "# Training and Testing Sets\n",
    "from sklearn.model_selection import train_test_split\n",
    "X_train, X_test, y_train, y_test = train_test_split(X, y, test_size=0.2, random_state=0)\n",
    "# Training Text Classification Model and Predicting Sentiment\n",
    "from sklearn.ensemble import RandomForestClassifier\n",
    "classifier = RandomForestClassifier(n_estimators=1000, random_state=0)\n",
    "classifier.fit(X_train, y_train) "
   ]
  },
  {
   "cell_type": "code",
   "execution_count": 16,
   "metadata": {},
   "outputs": [
    {
     "name": "stdout",
     "output_type": "stream",
     "text": [
      "[0 0 0 0 0 0 0 1 1 1 1 0 0 0 1 0 0 0 1 1 0 1 1 1 0 1 1 0 1 1 1 0 1 0 1 1 0\n",
      " 0 1 0 1 1 0 0 1 1 0 0 1 1 0 1 0 1 1 1 0 1 1 1 1 0 1 1 0 0 0 0 1 0 0 1 0 1\n",
      " 0 0 0 0 0 0 1 1 0 1 1 0 1 1 0 1 0 1 1 1 0 0 0 0 0 0 1 1 0 1 0 1 1 0 1 0 1\n",
      " 0 1 1 0 0 1 1 1 0 0 0 1 0 0 0 0 1 0 0 0 1 0 0 0 0 1 0 1 1 1 1 0 1 0 0 0 0\n",
      " 1 1 0 1 0 1 1 1 1 1 0 1 0 1 0 1 0 0 0 0 0 0 1 1 1 0 0 0 0 0 0 1 1 1 0 1 1\n",
      " 0 1 0 1 1 1 0 1 0 0 1 0 0 0 0 0 0 1 1 1 1 1 1 1 1 1 0 0 0 0 0 1 0 0 1 0 0\n",
      " 0 0 1 1 0 0 1 0 0 1 1 1 0 0 0 1 1 1 1 0 0 0 1 0 1 0 1 1 1 1 1 0 0 1 0 1 0\n",
      " 1 1 0 1 0 0 1 0 1 0 0 1 1 0 0 1 0 1 0 1 1 0 1 1 0 0 1 0 0 1 0 1 0 1 0 1 0\n",
      " 0 0 1 1 1 0 0 0 1 0 0 1 1 0 0 1 0 1 0 1 1 1 0 0 0 1 1 1 1 0 1 1 1 0 1 0 1\n",
      " 1 1 1 0 1 0 0 0 1 1 1 0 0 0 1 0 0 0 1 1 0 0 1 1 0 1 0 0 1 0 0 0 0 0 0 1 0\n",
      " 0 1 1 1 0 0 0 0 1 1 0 0 1 0 0 1 0 1 0 1 0 0 1 1 0 1 0 0 1 0]\n"
     ]
    }
   ],
   "source": [
    "y_pred = classifier.predict(X_test)\n",
    "print(y_pred)"
   ]
  },
  {
   "cell_type": "code",
   "execution_count": 18,
   "metadata": {},
   "outputs": [
    {
     "name": "stdout",
     "output_type": "stream",
     "text": [
      "==================Confusion Matrix==================\n",
      "[[180  28]\n",
      " [ 30 162]]\n",
      "==================Classification Report==================\n",
      "              precision    recall  f1-score   support\n",
      "\n",
      "           0       0.86      0.87      0.86       208\n",
      "           1       0.85      0.84      0.85       192\n",
      "\n",
      "    accuracy                           0.85       400\n",
      "   macro avg       0.85      0.85      0.85       400\n",
      "weighted avg       0.85      0.85      0.85       400\n",
      "\n",
      "==================Accuracy Score==================\n",
      "0.855\n"
     ]
    }
   ],
   "source": [
    "from sklearn.metrics import classification_report, confusion_matrix, accuracy_score\n",
    "print(\"==================Confusion Matrix==================\")\n",
    "print(confusion_matrix(y_test,y_pred))\n",
    "print(\"==================Classification Report==================\")\n",
    "print(classification_report(y_test,y_pred))\n",
    "print(\"==================Accuracy Score==================\")\n",
    "print(accuracy_score(y_test, y_pred))"
   ]
  },
  {
   "cell_type": "code",
   "execution_count": 19,
   "metadata": {},
   "outputs": [
    {
     "data": {
      "text/plain": [
       "'any remake of an alfred hitchcock film is at best an uncertain project a perfect murder illustrates nfrankly dial for murder is not one of the master director greatest effort so there is ample room for improvement nunfortunately instead of updating the script ironing out some of the fault and speeding up the pace little perfect murder ha inexplicably managed to eliminate almost everything that wa worthwhile about dial for murder leaving behind the nearly unwatchable wreckage of would be 90 thriller nalmost all suspense film are loaded with plot implausibility nthe best thriller keep viewer involved enough in what going on so that these flaw in logic don become apparent until long after the final credit have rolled nunfortunately in perfect murder the fault are often so overt that we become aware of them a they re happening nthis is very bad sign nnot only do such occurrence shatter any suspension of disbelief but they have the astute viewer looking for the next such blunder nof course in the case of perfect murder at least that give an audience member something to do besides concentrating on the inane plot and the lifeless cardboard character na perfect murder isn a strict remake of dial for murder but it doe borrow heavily from frederick knott play which wa also the source material for hitchcock version a well a 1981 made for tv retelling nemily hayes gwyneth paltrow is the wealthy wife of powerful wall street mover and shaker steven hayes michael douglas ntheir marriage isn going well emily resents steven controlling instinct and a form of rebellion she is having an affair with penniless painter david shaw viggo mortensen nwhen steven learns of the relationship he decides to confront david but his approach isn that of typical cuckolded husband ninstead of yelling or threatening steven offer david proposal that too good to resist for 500 000 in cash 100 000 before the rest after he is to break into steven new york apartment and kill emily of course after getting the first payment david never bother to ask how he supposed to get the rest nultimately m not sure which of the three main character we re supposed to be sympathetic to the cold hearted husband who want his wife dead so he can get his hand on her fortune her mercenary lover who is willing to do the deed for half million or the woman who is happily carrying on an extramarital affair nnot only are these individual all profoundly dislikable but they re not interesting it possible to make good movie with detestable character see reservoir dog but there ha to be something compelling about them which in this case there isn nsteven emily and david are all lifted directly from the screenwriting 101 text book on stereotype nthe actor in this film are obviously just on hand to get their paycheck nmichael douglas is playing the kind of heartless tycoon that he can do in his sleep he gordon gekko with an unfaithful wife ngwyneth paltrow who wa recently delightful and appealing in sliding door is simply awful here nshe now ha the dubious distinction of have starred in two of 1998 worst thriller the other being hush nat least viggo mortensen i njane ha little fun with his part but then he usually doe interesting thing even in bad movie nthe thin supporting cast includes david suchet the star of poirot a police inspector and sarita choudhury kama sutra a emily best friend na perfect murder is plodding production that generates almost no suspense from beginning to end nthere aren many twist and turn in the unexpectedly linear script which make the ending inevitable almost from the start nit surprising to see director andrew davis the man behind the fugitive involved in this mess but like his star he too need to earn living nit just that remaking hitchcock and doing it so badly hardly seems to be an honorable way to go about getting the dough'"
      ]
     },
     "execution_count": 19,
     "metadata": {},
     "output_type": "execute_result"
    }
   ],
   "source": [
    "document"
   ]
  },
  {
   "cell_type": "code",
   "execution_count": null,
   "metadata": {},
   "outputs": [],
   "source": []
  }
 ],
 "metadata": {
  "kernelspec": {
   "display_name": "Python 3 (ipykernel)",
   "language": "python",
   "name": "python3"
  },
  "language_info": {
   "codemirror_mode": {
    "name": "ipython",
    "version": 3
   },
   "file_extension": ".py",
   "mimetype": "text/x-python",
   "name": "python",
   "nbconvert_exporter": "python",
   "pygments_lexer": "ipython3",
   "version": "3.10.7"
  }
 },
 "nbformat": 4,
 "nbformat_minor": 2
}
