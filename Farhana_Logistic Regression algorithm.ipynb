{
 "cells": [
  {
   "cell_type": "code",
   "execution_count": 1,
   "id": "e3dcbc43",
   "metadata": {},
   "outputs": [
    {
     "name": "stdout",
     "output_type": "stream",
     "text": [
      "-------------------Logistic Regression Algorithm-----------------\n",
      "Name: Farhana Khatoon Abdul Rashid\n",
      "Roll No.21\n",
      "College name: Vivek College of Commerce\n",
      "M.sc(I.T)[Sem 3]\n",
      "Date and Time = 22/11/2022 08:13:07\n",
      "\n",
      "Shape of data:-  (100, 3)\n",
      "\n",
      "Data:- \n",
      "    DMV_Test_1  DMV_Test_2  Results\n",
      "0   34.623660   78.024693        0\n",
      "1   30.286711   43.894998        0\n",
      "2   35.847409   72.902198        0\n",
      "3   60.182599   86.308552        1\n",
      "4   79.032736   75.344376        1\n"
     ]
    },
    {
     "name": "stderr",
     "output_type": "stream",
     "text": [
      "*c* argument looks like a single numeric RGB or RGBA sequence, which should be avoided as value-mapping will have precedence in case its length matches with *x* & *y*.  Please use the *color* keyword-argument or provide a 2D array with a single row if you intend to specify the same RGB or RGBA value for all points.\n",
      "*c* argument looks like a single numeric RGB or RGBA sequence, which should be avoided as value-mapping will have precedence in case its length matches with *x* & *y*.  Please use the *color* keyword-argument or provide a 2D array with a single row if you intend to specify the same RGB or RGBA value for all points.\n"
     ]
    },
    {
     "name": "stdout",
     "output_type": "stream",
     "text": [
      "\n",
      "Prediction on Test set:- [1 0 0 0 1 1 0 1 0 1 0 0 0 1 0 1 0 1 0 1 0 0 1 1 0]\n",
      "   Real Values  Predicted Values\n",
      "0            1                 1\n",
      "1            0                 0\n",
      "2            0                 0\n",
      "3            0                 0\n",
      "4            1                 1\n",
      "\n",
      "Confusion Matrix:-\n",
      " [[11  0]\n",
      " [ 3 11]]\n",
      "\n",
      "Accuracy:-  0.88\n",
      "\n",
      "Recall:-\n",
      " 0.7857142857142857\n",
      "\n",
      "Precision:-\n",
      " 1.0\n",
      "======Classification report======\n",
      "              precision    recall  f1-score   support\n",
      "\n",
      "           0       0.79      1.00      0.88        11\n",
      "           1       1.00      0.79      0.88        14\n",
      "\n",
      "    accuracy                           0.88        25\n",
      "   macro avg       0.89      0.89      0.88        25\n",
      "weighted avg       0.91      0.88      0.88        25\n",
      "\n",
      "\n",
      "\n"
     ]
    },
    {
     "data": {
      "image/png": "[encoded data removed]",
      "text/plain": [
       "<Figure size 640x480 with 1 Axes>"
      ]
     },
     "metadata": {},
     "output_type": "display_data"
    }
   ],
   "source": [
    "from datetime import datetime\n",
    "print('-------------------Logistic Regression Algorithm-----------------')\n",
    "print('Name: Farhana Khatoon Abdul Rashid')\n",
    "print('Roll No.21')\n",
    "print('College name: Vivek College of Commerce')\n",
    "print('M.sc(I.T)[Sem 3]')\n",
    "now = datetime.now()\n",
    "# dd/mm/YY H:M:S\n",
    "dt_string = now.strftime(\"%d/%m/%Y %H:%M:%S\")\n",
    "print(\"Date and Time =\", dt_string)\t\n",
    "# Import the required libraries \n",
    "import numpy as np\n",
    "import pandas as pd\n",
    "import matplotlib.pyplot as plt\n",
    "# Import the data set\n",
    "# Reading Data\n",
    "dataset = pd.read_csv('DMVWrittenTests.csv')\n",
    "print(\"\\nShape of data:- \", dataset.shape)\n",
    "(237, 4)\n",
    "print(\"\\nData:- \\n\",dataset.head())\n",
    "#Assigning ‘X’ as independent variable and ‘Y’ as dependent variable\n",
    "X = dataset.iloc[:, [0, 1]].values\n",
    "y = dataset.iloc[:, 2].values\n",
    "#Splitting the dataset into the Training set and Test set\n",
    "from sklearn.model_selection import train_test_split\n",
    "X_train, X_test, y_train, y_test = train_test_split(X, y, test_size = 0.25, random_state = 0)\n",
    "#Feature Scaling\n",
    "from sklearn.preprocessing import StandardScaler\n",
    "sc = StandardScaler()\n",
    "X_train = sc.fit_transform(X_train)\n",
    "X_test = sc.transform(X_test)\n",
    "#Training the Logistic Regression model on the Training Set\n",
    "from sklearn.linear_model import LogisticRegression\n",
    "classifier = LogisticRegression()\n",
    "classifier.fit(X_train, y_train)\n",
    "#Predicting the Test set results\n",
    "y_pred = classifier.predict(X_test) \n",
    "print(\"\\nPrediction on Test set:-\", y_pred)\n",
    "#Comparing the Real Values with Predicted Values\n",
    "df = pd.DataFrame({'Real Values':y_test, 'Predicted Values':y_pred})\n",
    "print(df.head())\n",
    "#Confusion Matrix, Accuracy, Recall, Precision, and Classification report\n",
    "from sklearn.metrics import confusion_matrix, recall_score, precision_score, classification_report\n",
    "cm = confusion_matrix(y_test, y_pred)\n",
    "print(\"\\nConfusion Matrix:-\\n\", cm)\n",
    "from sklearn.metrics import accuracy_score \n",
    "print (\"\\nAccuracy:- \", accuracy_score(y_test, y_pred))\n",
    "print(\"\\nRecall:-\\n\", recall_score(y_test,y_pred))\n",
    "print(\"\\nPrecision:-\\n\", precision_score(y_test,y_pred))\n",
    "cr=classification_report(y_test,y_pred)\n",
    "print(\"======Classification report======\")\n",
    "print(cr)\n",
    "print(\"\\n\")\n",
    "#Visualising the Results\n",
    "from matplotlib.colors import ListedColormap\n",
    "X_set, y_set = X_test, y_test\n",
    "X1, X2 = np.meshgrid(np.arange(start = X_set[:, 0].min() - 1, stop = X_set[:, 0].max() + 1, step = 0.01),\n",
    "                     np.arange(start = X_set[:, 1].min() - 1, stop = X_set[:, 1].max() + 1, step = 0.01))\n",
    "plt.contourf(X1, X2, classifier.predict(np.array([X1.ravel(), X2.ravel()]).T).reshape(X1.shape),\n",
    "             alpha = 0.75, cmap = ListedColormap(('red', 'green')))\n",
    "plt.xlim(X1.min(), X1.max())\n",
    "plt.ylim(X2.min(), X2.max())\n",
    "for i, j in enumerate(np.unique(y_set)):\n",
    "    plt.scatter(X_set[y_set == j, 0], X_set[y_set == j, 1],\n",
    "                c = ListedColormap(('red', 'green'))(i), label = j)\n",
    "plt.title('Logistic Regression')\n",
    "plt.xlabel('DMV_Test_1')\n",
    "plt.ylabel('DMV_Test_2')\n",
    "plt.legend()\n",
    "plt.show()\n",
    "\n"
   ]
  },
  {
   "cell_type": "code",
   "execution_count": null,
   "id": "6bcabcf2",
   "metadata": {},
   "outputs": [],
   "source": []
  },
  {
   "cell_type": "code",
   "execution_count": null,
   "id": "bda277a6",
   "metadata": {},
   "outputs": [],
   "source": []
  }
 ],
 "metadata": {
  "kernelspec": {
   "display_name": "Python 3 (ipykernel)",
   "language": "python",
   "name": "python3"
  },
  "language_info": {
   "codemirror_mode": {
    "name": "ipython",
    "version": 3
   },
   "file_extension": ".py",
   "mimetype": "text/x-python",
   "name": "python",
   "nbconvert_exporter": "python",
   "pygments_lexer": "ipython3",
   "version": "3.10.7"
  }
 },
 "nbformat": 4,
 "nbformat_minor": 5
}
