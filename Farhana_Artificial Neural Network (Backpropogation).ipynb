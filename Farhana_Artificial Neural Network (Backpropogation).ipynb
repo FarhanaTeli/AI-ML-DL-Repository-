{
 "cells": [
  {
   "cell_type": "code",
   "execution_count": 9,
   "id": "831224c0",
   "metadata": {},
   "outputs": [
    {
     "name": "stdout",
     "output_type": "stream",
     "text": [
      "--------Artificial Neural Network (Backpropogation and Forwardpropogation------\n",
      "Name: Farhana Khatoon Abdul Rashid\n",
      "Roll No.21\n",
      "College name: Vivek College of Commerce\n",
      "M.sc(I.T)[Sem 3]\n",
      "Date and Time = 22/11/2022 12:03:01\n",
      "Input: \n",
      "[[0.66666667 1.        ]\n",
      " [0.33333333 0.55555556]\n",
      " [1.         0.66666667]]\n",
      "Actual Output: \n",
      "[[0.92]\n",
      " [0.86]\n",
      " [0.89]]\n",
      "Predicted Output: \n",
      " [[0.89834842]\n",
      " [0.88755931]\n",
      " [0.90094281]]\n"
     ]
    }
   ],
   "source": [
    "from datetime import datetime\n",
    "print('--------Artificial Neural Network (Backpropogation and Forwardpropogation------')\n",
    "print('Name: Farhana Khatoon Abdul Rashid')\n",
    "print('Roll No.21')\n",
    "print('College name: Vivek College of Commerce')\n",
    "print('M.sc(I.T)[Sem 3]')\n",
    "now = datetime.now()\n",
    "# dd/mm/YY H:M:S\n",
    "dt_string = now.strftime(\"%d/%m/%Y %H:%M:%S\")\n",
    "print(\"Date and Time =\", dt_string)\t\n",
    "# Import the required libraries \n",
    "import numpy as np\n",
    "X = np.array(([2, 9], [1, 5], [3, 6]), dtype=float)\n",
    "y = np.array(([92], [86], [89]), dtype=float)\n",
    "X = X/np.amax(X,axis=0) # maximum of X array longitudinally\n",
    "y = y/100\n",
    "#Sigmoid Function\n",
    "def sigmoid (x):\n",
    " return 1/(1 + np.exp(-x))\n",
    "#Derivative of Sigmoid Function\n",
    "def derivatives_sigmoid(x):\n",
    " return x * (1 - x)\n",
    "#Variable initialization\n",
    "epoch=5000 #Setting training iterations\n",
    "lr=0.1 #Setting learning rate\n",
    "inputlayer_neurons = 2 #number of features in data set\n",
    "hiddenlayer_neurons = 3 #number of hidden layers neurons\n",
    "output_neurons = 1 #number of neurons at output layer\n",
    "#weight and bias initialization\n",
    "wh=np.random.uniform(size=(inputlayer_neurons,hiddenlayer_neurons))\n",
    "bh=np.random.uniform(size=(1,hiddenlayer_neurons))\n",
    "wout=np.random.uniform(size=(hiddenlayer_neurons,output_neurons))\n",
    "bout=np.random.uniform(size=(1,output_neurons))\n",
    "#draws a random range of numbers uniformly of dim x*y\n",
    "for i in range(epoch):\n",
    "    \n",
    "#Forward Propogation\n",
    " hinp1=np.dot(X,wh)\n",
    " hinp=hinp1 + bh\n",
    " hlayer_act = sigmoid(hinp)\n",
    " outinp1=np.dot(hlayer_act,wout)\n",
    " outinp= outinp1+ bout\n",
    " output = sigmoid(outinp)\n",
    "\n",
    "#Backpropagation\n",
    " EO = y-output\n",
    " outgrad = derivatives_sigmoid(output)\n",
    " d_output = EO* outgrad\n",
    " EH = d_output.dot(wout.T)\n",
    "\n",
    "#how much hidden layer wts contributed to error\n",
    " hiddengrad = derivatives_sigmoid(hlayer_act)\n",
    " d_hiddenlayer = EH * hiddengrad\n",
    "# dotproduct of nextlayererror and currentlayerop\n",
    "wout += hlayer_act.T.dot(d_output) *lr\n",
    "wh += X.T.dot(d_hiddenlayer) *lr\n",
    "print(\"Input: \\n\" + str(X))\n",
    "print(\"Actual Output: \\n\" + str(y))\n",
    "print(\"Predicted Output: \\n\" ,output)"
   ]
  },
  {
   "cell_type": "code",
   "execution_count": null,
   "id": "feb17ed6",
   "metadata": {},
   "outputs": [],
   "source": []
  }
 ],
 "metadata": {
  "kernelspec": {
   "display_name": "Python 3 (ipykernel)",
   "language": "python",
   "name": "python3"
  },
  "language_info": {
   "codemirror_mode": {
    "name": "ipython",
    "version": 3
   },
   "file_extension": ".py",
   "mimetype": "text/x-python",
   "name": "python",
   "nbconvert_exporter": "python",
   "pygments_lexer": "ipython3",
   "version": "3.10.7"
  }
 },
 "nbformat": 4,
 "nbformat_minor": 5
}
